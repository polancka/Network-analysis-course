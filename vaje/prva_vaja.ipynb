{
 "cells": [
  {
   "cell_type": "markdown",
   "metadata": {},
   "source": [
    "## Prva vaja INA\n",
    "### Graph basics: creating a graph\n"
   ]
  },
  {
   "cell_type": "code",
   "execution_count": null,
   "metadata": {},
   "outputs": [],
   "source": [
    "import networkx as nx\n",
    "import matplotlib.pyplot as py"
   ]
  },
  {
   "cell_type": "code",
   "execution_count": null,
   "metadata": {},
   "outputs": [],
   "source": [
    "#creating a graph\n",
    "G = nx.Graph()\n",
    "# nx.DiGraph / nx.MultiGraph / nx.MultiDiGraph\n",
    "\n",
    "#adding nodes and edges\n",
    "G.add_node(1)\n",
    "G.add_node(2)\n",
    "G.add_edge(1,2)\n",
    "\n",
    "#visualizing the graph \n",
    "\n",
    "#Inspecting a graph\n",
    "print(list(G.neighbors(1))) #lists all neighbours of node 1\n",
    "print(list(G[1])) # will do the same\n",
    "\n",
    "#transversing all nodes and for every node their neighbours\n",
    "for i in G.nodes:\n",
    "    for j in G[i]: \n",
    "        print(\"neki\")\n",
    "\n",
    "#when printing edges, the nodes of an edge will be printed in an alphabetcial order if not stated otherwise\n",
    "#degree: \n",
    "print(G.degree) #the size of the network\n",
    "len(G) #number of nodes == range(len(G)) to loop trough \n",
    "\n",
    "#converting a graph to diGraph\n",
    "D = nx.DiGraph(G) "
   ]
  },
  {
   "cell_type": "markdown",
   "metadata": {},
   "source": [
    "### Transforming a graph\n",
    "when the graph is transformed -> every undirected edge is tranformed into two directed edges\n",
    "#now the order in the tuples od the edge nodes matters because we have dirrected edges\n",
    "\n",
    "#predecesors - they point to node i\n",
    "#sucessors - node i points to them\n",
    "\n"
   ]
  },
  {
   "cell_type": "code",
   "execution_count": null,
   "metadata": {},
   "outputs": [],
   "source": [
    "# transforming to multigraph: we tale the undirected graph G and trasform it\n",
    "M = nx.MultiGraph(G)\n",
    "M.add_edge(\"foo\", \"bar\", label = \"new\")\n"
   ]
  },
  {
   "cell_type": "markdown",
   "metadata": {},
   "source": [
    "We can also transform it to a weighted graph! we can weight the edges. Having two weighted edges from node i to node j is not the same as having one edge that has the weight that sums the other two edges, depends on the case\n",
    "\n",
    "Neighbours are returned withouth večkratnost (same node is only printed once even if there are more edges betwen those two nodes).\n",
    "Dictionary : keys are numbers of edges, values are new dictionaries that have some new information about the edge. we need to check how big this dictionary is to actually take into the account the double edges (looping trough neighbours will leave out the double edges)\n"
   ]
  },
  {
   "cell_type": "code",
   "execution_count": null,
   "metadata": {},
   "outputs": [],
   "source": [
    "\n",
    "G.edges(i) # will give a list of tuples"
   ]
  },
  {
   "cell_type": "markdown",
   "metadata": {},
   "source": [
    "multidigraph work similarly (look it up at home)\n",
    "#when adding edges be careful (error or making up new edges)\n",
    "\n",
    "#random graph models- algorithms for consturcting graphs\n",
    "#G(n,m) model -> it creates a random graph with n nodes and m edges\n",
    "\n",
    "#How many edges would we need if we have 100 nodes to say with a great ecrtanty that the graph will be connected (no isolated islands)\n",
    "\n",
    "#Dolphins network - which dolphins swam togheter\n",
    "\n",
    "#pajek format (chech the name)\n",
    "# *vertices 62\n",
    "# 1 \"Beak\" 2\n",
    "# 2 \"Beescratch\" 1\n",
    "# .... all the nodes\n",
    "# *edges 102 (these are undirected)\n",
    "# 11 1\n",
    "# 12 2\n",
    "# ... all the edges\n",
    "\n",
    "# if we wanted directed edges we would say\n",
    "# *arcs 103\n",
    "# ... directed edges listed\n",
    "\n",
    "#we must convert node labels to integers if we are reading from such file/format\n",
    "G = nx.convert_node_labels_to_integers(G, label_attribute= \"label\")\n",
    "\n",
    "#Importance of nodes: measure of CENTRALITY: page rank algorithm, \n",
    "scores = nx.pagerank(G)\n",
    "sizes = [1e4 * scores[i] for i in G.nodes()]\n",
    "#draw(G, node_size = sizes) #import the draw function from the noteebok\n",
    "\n",
    "#partitioning the network - community detection (we want the algorithm to figure out how many groups there are)\n",
    "#label propagation algorithm that returns a list of sets, each set represents one of the detected groups\n",
    "#if there is no grouping  it will return one set of all the nodes \n"
   ]
  }
 ],
 "metadata": {
  "language_info": {
   "name": "python"
  }
 },
 "nbformat": 4,
 "nbformat_minor": 2
}
