{
 "cells": [
  {
   "cell_type": "markdown",
   "id": "4a9a4bfa",
   "metadata": {},
   "source": [
    "###### Introduction to Network Analysis 2023/24 (ii)\n",
    "\n",
    "## Network representations, basic network algorithms\n",
    "\n",
    "You are given four networks in Pajek format that was presented in lectures.\n",
    "\n",
    "+ Tiny toy network for testing ([toy.net](http://lovro.fri.uni-lj.si/ina/nets/toy.net))\n",
    "+ Zachary karate club network ([karate_club.net](http://lovro.fri.uni-lj.si/ina/nets/karate_club.net))\n",
    "+ iMDB actors collaboration network ([collaboration_imdb.net](http://lovro.fri.uni-lj.si/ina/nets/collaboration_imdb.net))\n",
    "+ A small part of Google web graph ([www_google.net](http://lovro.fri.uni-lj.si/ina/nets/www_google.net))"
   ]
  },
  {
   "cell_type": "markdown",
   "id": "d73c2a09",
   "metadata": {},
   "source": [
    "### I. Adjacency list representation\n",
    "\n"
   ]
  },
  {
   "cell_type": "markdown",
   "id": "bae0fae8",
   "metadata": {},
   "source": [
    "1. **(code)** Assume that all networks are undirected. Implement your own adjacency list representation of the networks as an array of lists and represent all four networks.\n",
    "\n"
   ]
  },
  {
   "cell_type": "markdown",
   "id": "b19489f1",
   "metadata": {},
   "source": [
    "We will be using a list adjecency representations. Our graph will be a list of lists. \n",
    "First we import the data, read it line by line and store some of the information in the G list of lists. "
   ]
  },
  {
   "cell_type": "code",
   "execution_count": 12,
   "id": "b0509e11",
   "metadata": {},
   "outputs": [],
   "source": [
    "def component(G, N, i):\n",
    "    C = []\n",
    "    S = []\n",
    "\n",
    "    S.append(i)\n",
    "    N.remove(i)\n",
    "    while S: #returns true untill S data structure is no empty\n",
    "         #different than initial i!!\n",
    "        C.append(i := S.pop())\n",
    "        for j in G[i]: #the graph representation is only used here, would also work with NetworkX\n",
    "            if j in N: #check if it was visited\n",
    "                S.append(j)\n",
    "                N.remove(j)\n",
    "\n",
    "    return C\n"
   ]
  },
  {
   "cell_type": "code",
   "execution_count": 11,
   "id": "28ac9dd2",
   "metadata": {},
   "outputs": [],
   "source": [
    "def components(G): \n",
    "    N = set(range(len(G))) #this must be a set! not a list, otherwise it will loop and it will cause quadratic time complexity. \n",
    "    C =[]\n",
    "    while N:\n",
    "        C.append(component(G, N, next(iter(N))))#get the element \n",
    "\n",
    "    return C"
   ]
  },
  {
   "cell_type": "code",
   "execution_count": 14,
   "id": "711d00eb",
   "metadata": {},
   "outputs": [
    {
     "name": "stdout",
     "output_type": "stream",
     "text": [
      "Network toy.net\n",
      "Nodes 5\n",
      "Edges 4\n",
      "Average degree 1.6\n",
      "Density 0.4\n",
      "Max degree 3\n",
      "Isolates 1\n",
      "Pendants 1\n",
      "Number of connectec components 2\n",
      "Size of largest components (LCC) 0.8\n",
      "Network karate_club.net\n",
      "Nodes 34\n",
      "Edges 78\n",
      "Average degree 4.588235294117647\n",
      "Density 0.13903743315508021\n",
      "Max degree 17\n",
      "Isolates 0\n",
      "Pendants 1\n",
      "Number of connectec components 1\n",
      "Size of largest components (LCC) 1.0\n",
      "Network collaboration_imdb.net\n",
      "Nodes 17577\n",
      "Edges 287074\n",
      "Average degree 32.6647323206463\n",
      "Density 0.001858484997760941\n",
      "Max degree 784\n",
      "Isolates 0\n",
      "Pendants 475\n",
      "Number of connectec components 19\n",
      "Size of largest components (LCC) 0.9930591113386812\n",
      "Network www_google.net\n",
      "Nodes 875713\n",
      "Edges 5105039\n",
      "Average degree 11.659160021605253\n",
      "Density 1.3313920583028727e-05\n",
      "Max degree 6353\n",
      "Isolates 0\n",
      "Pendants 130912\n",
      "Number of connectec components 2746\n",
      "Size of largest components (LCC) 0.9772630987549574\n"
     ]
    }
   ],
   "source": [
    "networks = [\"toy.net\", \"karate_club.net\", \"collaboration_imdb.net\", \"www_google.net\"]\n",
    "for network in networks: \n",
    "    with open(f\"data/{network}\", \"r\") as file:\n",
    "        n = int(file.readline().split(\" \")[1])\n",
    "        G = [[] for _ in range(n)]\n",
    "\n",
    "        for line in file: \n",
    "            if line[0] == \"*\":\n",
    "                break\n",
    "        \n",
    "        m = 0\n",
    "        max_degree = 0\n",
    "        for line in file: \n",
    "            i,j = line.split(\" \")\n",
    "            i = int(i) - 1\n",
    "            j = int(j) - 1\n",
    "\n",
    "            #G[i].append(j) in obratno\n",
    "            G[i].append(j)\n",
    "            G[j].append(i)\n",
    "            m += 1\n",
    "\n",
    "        degrees = [len(neigh) for neigh in G]\n",
    "        C = components(G) #this is the list of lists\n",
    "        lens = [len(c) for c in C]\n",
    "\n",
    "\n",
    "        print(f\"Network {network}\")\n",
    "        print(f\"Nodes {n}\")\n",
    "        print(f\"Edges {m}\")\n",
    "        print(f\"Average degree {2*m/n}\")\n",
    "        print(f\"Density {2*m/(n*(n-1))}\")\n",
    "        print(f\"Max degree {max(degrees)}\") #we could add checking for loops (node that has a loop and is isolated, is still isolated)\n",
    "        print(f\"Isolates {degrees.count(0)}\")\n",
    "        print(f\"Pendants {degrees.count(1)}\")\n",
    "        print(f\"Number of connectec components {len(C)}\")\n",
    "        print(f\"Size of largest components (LCC) {max(lens)/n}\" )\n",
    "\n",
    "\n",
    "\n"
   ]
  },
  {
   "cell_type": "markdown",
   "id": "7e5c50c5",
   "metadata": {},
   "source": [
    "2. **(discuss)** Now, assume that all networks are directed. How would you extend your network representation?\n",
    "\n"
   ]
  },
  {
   "cell_type": "markdown",
   "id": "cf6ea26f",
   "metadata": {},
   "source": [
    "If we want to store the directed graphs, we would need two list for each node. The first list would store predecessors of i, and the second would store the successors. Make sure to append the j node to the correct list. \n",
    "\n",
    "G[i] = ([...], [...])"
   ]
  },
  {
   "cell_type": "markdown",
   "id": "b079f58d",
   "metadata": {},
   "source": [
    "3. **(discuss)** Does your network representation allow for multiple links between the nodes, loops on nodes and isolated nodes?"
   ]
  },
  {
   "cell_type": "markdown",
   "id": "daaa70a6",
   "metadata": {},
   "source": [
    "For loops, the node will recieve two connections to its adjecency list. \n",
    "len(G[i]) = Ki = degree"
   ]
  }
 ],
 "metadata": {
  "kernelspec": {
   "display_name": "Python 3 (ipykernel)",
   "language": "python",
   "name": "python3"
  },
  "language_info": {
   "codemirror_mode": {
    "name": "ipython",
    "version": 3
   },
   "file_extension": ".py",
   "mimetype": "text/x-python",
   "name": "python",
   "nbconvert_exporter": "python",
   "pygments_lexer": "ipython3",
   "version": "3.9.13"
  }
 },
 "nbformat": 4,
 "nbformat_minor": 5
}
