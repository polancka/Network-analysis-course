{
 "cells": [
  {
   "cell_type": "markdown",
   "id": "eb77dfab",
   "metadata": {},
   "source": [
    "###### Introduction to Network Analysis 2023/24 (ii)\n",
    "\n",
    "## Network representations, basic network algorithms\n",
    "\n",
    "You are given four networks in Pajek format that was presented in lectures.\n",
    "\n",
    "+ Tiny toy network for testing ([toy.net](http://lovro.fri.uni-lj.si/ina/nets/toy.net))\n",
    "+ Zachary karate club network ([karate_club.net](http://lovro.fri.uni-lj.si/ina/nets/karate_club.net))\n",
    "+ iMDB actors collaboration network ([collaboration_imdb.net](http://lovro.fri.uni-lj.si/ina/nets/collaboration_imdb.net))\n",
    "+ A small part of Google web graph ([www_google.net](http://lovro.fri.uni-lj.si/ina/nets/www_google.net))"
   ]
  },
  {
   "cell_type": "markdown",
   "id": "e2cc694d",
   "metadata": {},
   "source": [
    "Number of nodes = constant\n",
    "\n",
    "Number of edges = in constant time \n",
    "\n",
    "--> if using this in a loop be careful, it wont scale because it is not stored in a separate variable. \n",
    "\n",
    "Other computations are linear. \n"
   ]
  },
  {
   "cell_type": "markdown",
   "id": "622cd422",
   "metadata": {},
   "source": [
    "### II. Basic network statistics\n",
    "\n"
   ]
  },
  {
   "cell_type": "markdown",
   "id": "96cbb395",
   "metadata": {},
   "source": [
    "1. **(code)** Compute basic statistics of all four networks. Namely, the number of nodes $n$ and links $m$, the average node degree $\\langle k\\rangle=2m/n$ and the undirected density $\\rho=m/{n\\choose 2}$. Are the results expected?\n",
    "\n"
   ]
  },
  {
   "cell_type": "markdown",
   "id": "f5b66845",
   "metadata": {},
   "source": [
    "For imdb we assume they did not take into account all the actors in a film, otherwise, the average degree would be bigger than 32. \n",
    "Density is small as expected. Real networks are sparse. \n",
    "If the density is negative, it has overflown. To avoid that use 2*m/n/(n-1) as formula for density instead"
   ]
  },
  {
   "cell_type": "markdown",
   "id": "2418d91a",
   "metadata": {},
   "source": [
    "High degree nodes - hubs. This does not happen in a random graph."
   ]
  },
  {
   "cell_type": "markdown",
   "id": "0e227673",
   "metadata": {},
   "source": [
    "Pendant node - a node that connects to the graph with just one connection. In the imdb network we dont expect a lot of pendatnds (that would mean a movie with just two actors). "
   ]
  },
  {
   "cell_type": "code",
   "execution_count": null,
   "id": "1c38999e",
   "metadata": {},
   "outputs": [],
   "source": []
  },
  {
   "cell_type": "markdown",
   "id": "cbebf1b2",
   "metadata": {},
   "source": [
    "2. **(code)** Compute the number of isolated nodes and the number of pendant nodes (i.e. degree-$1$ nodes), and the maximum node degree $k_{\\rm max}$. How do the values of $k_{\\rm max}$ compare to $\\langle k\\rangle$?\n",
    "\n"
   ]
  },
  {
   "cell_type": "code",
   "execution_count": null,
   "id": "d1753541",
   "metadata": {},
   "outputs": [],
   "source": [
    "# All solutions in ii_I.ipynb"
   ]
  },
  {
   "cell_type": "markdown",
   "id": "82547063",
   "metadata": {},
   "source": [
    "3. **(discuss)** What is the time complexity of the computations above?"
   ]
  }
 ],
 "metadata": {
  "language_info": {
   "name": "python"
  }
 },
 "nbformat": 4,
 "nbformat_minor": 5
}
